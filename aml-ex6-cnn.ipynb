{
 "cells": [
  {
   "cell_type": "markdown",
   "metadata": {},
   "source": [
    "# 582744 Advanced Course in Machine Learning\n",
    "\n",
    "## Exercise 6.4: Character classification with CNNs\n",
    "\n",
    "This exercise contains most of the code needed in a Python jupyter notebook, you will be asked to fill in some important parts.  Just read the text and run each code cell by selecting and clicking the \"run cell\" button (play-like button), or by pressing shift-Enter.\n",
    "\n",
    "In this exercise, we'll continue on the theme of exercise 6.3, i.e., classifying images of letters, but instead of MLP we'll use convolutional neural networks (CNNs).\n",
    "\n",
    "The notebook for this exercise is based on a notebook created by Markus Koskela at [CSC](https://www.csc.fi/home).\n",
    "\n",
    "Continue by running the cells below..."
   ]
  },
  {
   "cell_type": "code",
   "execution_count": 1,
   "metadata": {},
   "outputs": [
    {
     "name": "stderr",
     "output_type": "stream",
     "text": [
      "Using TensorFlow backend.\n"
     ]
    }
   ],
   "source": [
    "%matplotlib inline\n",
    "\n",
    "from keras.models import Sequential\n",
    "from keras.layers import Dense, Activation, Dropout, Flatten, MaxPooling2D\n",
    "from keras.layers.convolutional import Conv2D \n",
    "from keras.utils import np_utils\n",
    "\n",
    "from IPython.display import SVG\n",
    "from keras.utils.vis_utils import model_to_dot\n",
    "from keras import backend as K\n",
    "\n",
    "import numpy as np\n",
    "import matplotlib.pyplot as plt\n",
    "import seaborn as sns\n",
    "import urllib.request\n",
    "import os.path"
   ]
  },
  {
   "cell_type": "markdown",
   "metadata": {},
   "source": [
    "Next we'll download the notMNIST data (if it hasn't been already). This might take a few seconds as it's a 9.9 MB file.\n",
    "\n",
    "We're using a small subset of notMNIST which contains only ten classes, letters 'A' to 'J'."
   ]
  },
  {
   "cell_type": "code",
   "execution_count": 2,
   "metadata": {},
   "outputs": [
    {
     "name": "stdout",
     "output_type": "stream",
     "text": [
      "notMNIST_small.npz was already downloaded.\n"
     ]
    }
   ],
   "source": [
    "file_name = 'notMNIST_small.npz'\n",
    "if not os.path.isfile(file_name):\n",
    "    (tmp, headers) = urllib.request.urlretrieve(\"https://www.cs.helsinki.fi/u/mvsjober/misc/notMNIST_small.npz\", file_name)\n",
    "    if os.path.isfile(file_name):\n",
    "        print('Successfully downloaded', file_name)\n",
    "else:\n",
    "    print(file_name, 'was already downloaded.')"
   ]
  },
  {
   "cell_type": "markdown",
   "metadata": {},
   "source": [
    "Next, we'll split the data into a training set and a testset and make some format changes."
   ]
  },
  {
   "cell_type": "code",
   "execution_count": 3,
   "metadata": {},
   "outputs": [
    {
     "name": "stdout",
     "output_type": "stream",
     "text": [
      "\n",
      "notMNIST_small data loaded: train: 15000 test: 3724\n",
      "X_train: (15000, 28, 28)\n",
      "y_train: (15000,)\n",
      "Y_train: (15000, 10)\n"
     ]
    }
   ],
   "source": [
    "split_point = 15000\n",
    "data = np.load('notMNIST_small.npz')\n",
    "X_train = data['images'][:split_point,:,:]\n",
    "y_train = data['labels'][:split_point]\n",
    "X_test = data['images'][split_point:,:,:]\n",
    "y_test = data['labels'][split_point:]\n",
    "nb_classes = 10\n",
    "\n",
    "X_train = X_train.astype('float32')\n",
    "X_test = X_test.astype('float32')\n",
    "X_train /= 255\n",
    "X_test /= 255\n",
    "\n",
    "# one-hot encoding:\n",
    "Y_train = np_utils.to_categorical(y_train, nb_classes)\n",
    "Y_test = np_utils.to_categorical(y_test, nb_classes)\n",
    "\n",
    "print()\n",
    "print('notMNIST_small data loaded: train:',len(X_train),'test:',len(X_test))\n",
    "print('X_train:', X_train.shape)\n",
    "print('y_train:', y_train.shape)\n",
    "print('Y_train:', Y_train.shape)"
   ]
  },
  {
   "cell_type": "markdown",
   "metadata": {},
   "source": [
    "The training data (`X_train`) is a 3rd-order tensor of size (15000, 28, 28), i.e., it consists of 15000 images of size 28x28 pixels. `y_train` is a 15000-dimensional vector containing the correct classes (0=\"A\", 1=\"B\", etc) for each training digit, and `Y_train` is a [one-hot](https://en.wikipedia.org/wiki/One-hot) encoding of `y_train`.\n",
    "\n",
    "We'll have to do a bit of tensor manipulations, depending on the used backend (Theano or Tensorflow)."
   ]
  },
  {
   "cell_type": "code",
   "execution_count": 4,
   "metadata": {},
   "outputs": [
    {
     "name": "stdout",
     "output_type": "stream",
     "text": [
      "X_train: (15000, 28, 28, 1)\n"
     ]
    }
   ],
   "source": [
    "# input image dimensions\n",
    "img_rows, img_cols = 28, 28\n",
    "\n",
    "if K.image_dim_ordering() == 'th':\n",
    "    X_train = X_train.reshape(X_train.shape[0], 1, img_rows, img_cols)\n",
    "    X_test = X_test.reshape(X_test.shape[0], 1, img_rows, img_cols)\n",
    "    input_shape = (1, img_rows, img_cols)\n",
    "else:\n",
    "    X_train = X_train.reshape(X_train.shape[0], img_rows, img_cols, 1)\n",
    "    X_test = X_test.reshape(X_test.shape[0], img_rows, img_cols, 1)\n",
    "    input_shape = (img_rows, img_cols, 1)\n",
    "    \n",
    "print('X_train:', X_train.shape)"
   ]
  },
  {
   "cell_type": "markdown",
   "metadata": {},
   "source": [
    "### Initialization\n",
    "\n",
    "Now, let's create an CNN model that outperforms the MLP model in the previous exercise!\n",
    "\n",
    "**Here is where you should add some code of your own!**\n",
    "\n",
    "Add at least one or more 2D convolutional layers, and max pooling. Non-linearities and dropouts as usual. The methods needed are described in [Keras' documentation](https://keras.io/). You will also need to `Flatten()` the output at some point to transform the 2D matrices to vector form (as the output is a vector with the 10 classes).\n",
    "\n",
    "The first layer needs to specify the input shape by giving the parameter `input_shape=input_shape` (the variable was defined in an earlier cell).\n",
    "\n",
    "The output of the last layer needs to be a probability distribution over the 10 classes to match the groundtruth (`Y_train`), i.e., a 10-dimensional vector that sums up to 1.0."
   ]
  },
  {
   "cell_type": "code",
   "execution_count": 32,
   "metadata": {
    "scrolled": true
   },
   "outputs": [
    {
     "name": "stdout",
     "output_type": "stream",
     "text": [
      "_________________________________________________________________\n",
      "Layer (type)                 Output Shape              Param #   \n",
      "=================================================================\n",
      "dense_33 (Dense)             (None, 28, 28, 128)       256       \n",
      "_________________________________________________________________\n",
      "conv2d_16 (Conv2D)           (None, 26, 26, 32)        36896     \n",
      "_________________________________________________________________\n",
      "max_pooling2d_8 (MaxPooling2 (None, 13, 13, 32)        0         \n",
      "_________________________________________________________________\n",
      "flatten_14 (Flatten)         (None, 5408)              0         \n",
      "_________________________________________________________________\n",
      "dense_34 (Dense)             (None, 100)               540900    \n",
      "_________________________________________________________________\n",
      "dropout_12 (Dropout)         (None, 100)               0         \n",
      "_________________________________________________________________\n",
      "dense_35 (Dense)             (None, 40)                4040      \n",
      "_________________________________________________________________\n",
      "dense_36 (Dense)             (None, 10)                410       \n",
      "_________________________________________________________________\n",
      "activation_25 (Activation)   (None, 10)                0         \n",
      "=================================================================\n",
      "Total params: 582,502\n",
      "Trainable params: 582,502\n",
      "Non-trainable params: 0\n",
      "_________________________________________________________________\n",
      "None\n"
     ]
    }
   ],
   "source": [
    "# Model initialization:\n",
    "model = Sequential()\n",
    "\n",
    "# Example lines, but change these to do CNN!\n",
    "model.add(Dense(units=128, input_shape=input_shape))\n",
    "model.add(Conv2D(32, (3, 3)))\n",
    "model.add(MaxPooling2D((2, 2)))\n",
    "model.add(Flatten())\n",
    "model.add(Dense(100, activation='sigmoid'))\n",
    "model.add(Dropout(0.1))\n",
    "model.add(Dense(40, activation='tanh'))\n",
    "model.add(Dense(nb_classes))\n",
    "model.add(Activation('softmax'))\n",
    "\n",
    "model.compile(loss='categorical_crossentropy', \n",
    "              optimizer='adam', \n",
    "              metrics=['accuracy'])\n",
    "print(model.summary())"
   ]
  },
  {
   "cell_type": "markdown",
   "metadata": {},
   "source": [
    "You can also visualise it like this:"
   ]
  },
  {
   "cell_type": "code",
   "execution_count": 35,
   "metadata": {},
   "outputs": [
    {
     "data": {
      "image/svg+xml": [
       "<svg height=\"802pt\" viewBox=\"0.00 0.00 388.00 802.00\" width=\"388pt\" xmlns=\"http://www.w3.org/2000/svg\" xmlns:xlink=\"http://www.w3.org/1999/xlink\">\n",
       "<g class=\"graph\" id=\"graph0\" transform=\"scale(1 1) rotate(0) translate(4 798)\">\n",
       "<title>G</title>\n",
       "<polygon fill=\"white\" points=\"-4,4 -4,-798 384,-798 384,4 -4,4\" stroke=\"none\"/>\n",
       "<!-- 139690621398320 -->\n",
       "<g class=\"node\" id=\"node1\"><title>139690621398320</title>\n",
       "<polygon fill=\"none\" points=\"22,-747.5 22,-793.5 358,-793.5 358,-747.5 22,-747.5\" stroke=\"black\"/>\n",
       "<text font-family=\"Times,serif\" font-size=\"14.00\" text-anchor=\"middle\" x=\"107\" y=\"-766.8\">dense_33_input: InputLayer</text>\n",
       "<polyline fill=\"none\" points=\"192,-747.5 192,-793.5 \" stroke=\"black\"/>\n",
       "<text font-family=\"Times,serif\" font-size=\"14.00\" text-anchor=\"middle\" x=\"219.5\" y=\"-778.3\">input:</text>\n",
       "<polyline fill=\"none\" points=\"192,-770.5 247,-770.5 \" stroke=\"black\"/>\n",
       "<text font-family=\"Times,serif\" font-size=\"14.00\" text-anchor=\"middle\" x=\"219.5\" y=\"-755.3\">output:</text>\n",
       "<polyline fill=\"none\" points=\"247,-747.5 247,-793.5 \" stroke=\"black\"/>\n",
       "<text font-family=\"Times,serif\" font-size=\"14.00\" text-anchor=\"middle\" x=\"302.5\" y=\"-778.3\">(None, 28, 28, 1)</text>\n",
       "<polyline fill=\"none\" points=\"247,-770.5 358,-770.5 \" stroke=\"black\"/>\n",
       "<text font-family=\"Times,serif\" font-size=\"14.00\" text-anchor=\"middle\" x=\"302.5\" y=\"-755.3\">(None, 28, 28, 1)</text>\n",
       "</g>\n",
       "<!-- 139690621397872 -->\n",
       "<g class=\"node\" id=\"node2\"><title>139690621397872</title>\n",
       "<polygon fill=\"none\" points=\"45.5,-664.5 45.5,-710.5 334.5,-710.5 334.5,-664.5 45.5,-664.5\" stroke=\"black\"/>\n",
       "<text font-family=\"Times,serif\" font-size=\"14.00\" text-anchor=\"middle\" x=\"100\" y=\"-683.8\">dense_33: Dense</text>\n",
       "<polyline fill=\"none\" points=\"154.5,-664.5 154.5,-710.5 \" stroke=\"black\"/>\n",
       "<text font-family=\"Times,serif\" font-size=\"14.00\" text-anchor=\"middle\" x=\"182\" y=\"-695.3\">input:</text>\n",
       "<polyline fill=\"none\" points=\"154.5,-687.5 209.5,-687.5 \" stroke=\"black\"/>\n",
       "<text font-family=\"Times,serif\" font-size=\"14.00\" text-anchor=\"middle\" x=\"182\" y=\"-672.3\">output:</text>\n",
       "<polyline fill=\"none\" points=\"209.5,-664.5 209.5,-710.5 \" stroke=\"black\"/>\n",
       "<text font-family=\"Times,serif\" font-size=\"14.00\" text-anchor=\"middle\" x=\"272\" y=\"-695.3\">(None, 28, 28, 1)</text>\n",
       "<polyline fill=\"none\" points=\"209.5,-687.5 334.5,-687.5 \" stroke=\"black\"/>\n",
       "<text font-family=\"Times,serif\" font-size=\"14.00\" text-anchor=\"middle\" x=\"272\" y=\"-672.3\">(None, 28, 28, 128)</text>\n",
       "</g>\n",
       "<!-- 139690621398320&#45;&gt;139690621397872 -->\n",
       "<g class=\"edge\" id=\"edge1\"><title>139690621398320-&gt;139690621397872</title>\n",
       "<path d=\"M190,-747.366C190,-739.152 190,-729.658 190,-720.725\" fill=\"none\" stroke=\"black\"/>\n",
       "<polygon fill=\"black\" points=\"193.5,-720.607 190,-710.607 186.5,-720.607 193.5,-720.607\" stroke=\"black\"/>\n",
       "</g>\n",
       "<!-- 139690621397984 -->\n",
       "<g class=\"node\" id=\"node3\"><title>139690621397984</title>\n",
       "<polygon fill=\"none\" points=\"35,-581.5 35,-627.5 345,-627.5 345,-581.5 35,-581.5\" stroke=\"black\"/>\n",
       "<text font-family=\"Times,serif\" font-size=\"14.00\" text-anchor=\"middle\" x=\"100\" y=\"-600.8\">conv2d_16: Conv2D</text>\n",
       "<polyline fill=\"none\" points=\"165,-581.5 165,-627.5 \" stroke=\"black\"/>\n",
       "<text font-family=\"Times,serif\" font-size=\"14.00\" text-anchor=\"middle\" x=\"192.5\" y=\"-612.3\">input:</text>\n",
       "<polyline fill=\"none\" points=\"165,-604.5 220,-604.5 \" stroke=\"black\"/>\n",
       "<text font-family=\"Times,serif\" font-size=\"14.00\" text-anchor=\"middle\" x=\"192.5\" y=\"-589.3\">output:</text>\n",
       "<polyline fill=\"none\" points=\"220,-581.5 220,-627.5 \" stroke=\"black\"/>\n",
       "<text font-family=\"Times,serif\" font-size=\"14.00\" text-anchor=\"middle\" x=\"282.5\" y=\"-612.3\">(None, 28, 28, 128)</text>\n",
       "<polyline fill=\"none\" points=\"220,-604.5 345,-604.5 \" stroke=\"black\"/>\n",
       "<text font-family=\"Times,serif\" font-size=\"14.00\" text-anchor=\"middle\" x=\"282.5\" y=\"-589.3\">(None, 26, 26, 32)</text>\n",
       "</g>\n",
       "<!-- 139690621397872&#45;&gt;139690621397984 -->\n",
       "<g class=\"edge\" id=\"edge2\"><title>139690621397872-&gt;139690621397984</title>\n",
       "<path d=\"M190,-664.366C190,-656.152 190,-646.658 190,-637.725\" fill=\"none\" stroke=\"black\"/>\n",
       "<polygon fill=\"black\" points=\"193.5,-637.607 190,-627.607 186.5,-637.607 193.5,-637.607\" stroke=\"black\"/>\n",
       "</g>\n",
       "<!-- 139690621459984 -->\n",
       "<g class=\"node\" id=\"node4\"><title>139690621459984</title>\n",
       "<polygon fill=\"none\" points=\"0,-498.5 0,-544.5 380,-544.5 380,-498.5 0,-498.5\" stroke=\"black\"/>\n",
       "<text font-family=\"Times,serif\" font-size=\"14.00\" text-anchor=\"middle\" x=\"103.5\" y=\"-517.8\">max_pooling2d_8: MaxPooling2D</text>\n",
       "<polyline fill=\"none\" points=\"207,-498.5 207,-544.5 \" stroke=\"black\"/>\n",
       "<text font-family=\"Times,serif\" font-size=\"14.00\" text-anchor=\"middle\" x=\"234.5\" y=\"-529.3\">input:</text>\n",
       "<polyline fill=\"none\" points=\"207,-521.5 262,-521.5 \" stroke=\"black\"/>\n",
       "<text font-family=\"Times,serif\" font-size=\"14.00\" text-anchor=\"middle\" x=\"234.5\" y=\"-506.3\">output:</text>\n",
       "<polyline fill=\"none\" points=\"262,-498.5 262,-544.5 \" stroke=\"black\"/>\n",
       "<text font-family=\"Times,serif\" font-size=\"14.00\" text-anchor=\"middle\" x=\"321\" y=\"-529.3\">(None, 26, 26, 32)</text>\n",
       "<polyline fill=\"none\" points=\"262,-521.5 380,-521.5 \" stroke=\"black\"/>\n",
       "<text font-family=\"Times,serif\" font-size=\"14.00\" text-anchor=\"middle\" x=\"321\" y=\"-506.3\">(None, 13, 13, 32)</text>\n",
       "</g>\n",
       "<!-- 139690621397984&#45;&gt;139690621459984 -->\n",
       "<g class=\"edge\" id=\"edge3\"><title>139690621397984-&gt;139690621459984</title>\n",
       "<path d=\"M190,-581.366C190,-573.152 190,-563.658 190,-554.725\" fill=\"none\" stroke=\"black\"/>\n",
       "<polygon fill=\"black\" points=\"193.5,-554.607 190,-544.607 186.5,-554.607 193.5,-554.607\" stroke=\"black\"/>\n",
       "</g>\n",
       "<!-- 139690621398768 -->\n",
       "<g class=\"node\" id=\"node5\"><title>139690621398768</title>\n",
       "<polygon fill=\"none\" points=\"45.5,-415.5 45.5,-461.5 334.5,-461.5 334.5,-415.5 45.5,-415.5\" stroke=\"black\"/>\n",
       "<text font-family=\"Times,serif\" font-size=\"14.00\" text-anchor=\"middle\" x=\"103.5\" y=\"-434.8\">flatten_14: Flatten</text>\n",
       "<polyline fill=\"none\" points=\"161.5,-415.5 161.5,-461.5 \" stroke=\"black\"/>\n",
       "<text font-family=\"Times,serif\" font-size=\"14.00\" text-anchor=\"middle\" x=\"189\" y=\"-446.3\">input:</text>\n",
       "<polyline fill=\"none\" points=\"161.5,-438.5 216.5,-438.5 \" stroke=\"black\"/>\n",
       "<text font-family=\"Times,serif\" font-size=\"14.00\" text-anchor=\"middle\" x=\"189\" y=\"-423.3\">output:</text>\n",
       "<polyline fill=\"none\" points=\"216.5,-415.5 216.5,-461.5 \" stroke=\"black\"/>\n",
       "<text font-family=\"Times,serif\" font-size=\"14.00\" text-anchor=\"middle\" x=\"275.5\" y=\"-446.3\">(None, 13, 13, 32)</text>\n",
       "<polyline fill=\"none\" points=\"216.5,-438.5 334.5,-438.5 \" stroke=\"black\"/>\n",
       "<text font-family=\"Times,serif\" font-size=\"14.00\" text-anchor=\"middle\" x=\"275.5\" y=\"-423.3\">(None, 5408)</text>\n",
       "</g>\n",
       "<!-- 139690621459984&#45;&gt;139690621398768 -->\n",
       "<g class=\"edge\" id=\"edge4\"><title>139690621459984-&gt;139690621398768</title>\n",
       "<path d=\"M190,-498.366C190,-490.152 190,-480.658 190,-471.725\" fill=\"none\" stroke=\"black\"/>\n",
       "<polygon fill=\"black\" points=\"193.5,-471.607 190,-461.607 186.5,-471.607 193.5,-471.607\" stroke=\"black\"/>\n",
       "</g>\n",
       "<!-- 139690621075352 -->\n",
       "<g class=\"node\" id=\"node6\"><title>139690621075352</title>\n",
       "<polygon fill=\"none\" points=\"63.5,-332.5 63.5,-378.5 316.5,-378.5 316.5,-332.5 63.5,-332.5\" stroke=\"black\"/>\n",
       "<text font-family=\"Times,serif\" font-size=\"14.00\" text-anchor=\"middle\" x=\"118\" y=\"-351.8\">dense_34: Dense</text>\n",
       "<polyline fill=\"none\" points=\"172.5,-332.5 172.5,-378.5 \" stroke=\"black\"/>\n",
       "<text font-family=\"Times,serif\" font-size=\"14.00\" text-anchor=\"middle\" x=\"200\" y=\"-363.3\">input:</text>\n",
       "<polyline fill=\"none\" points=\"172.5,-355.5 227.5,-355.5 \" stroke=\"black\"/>\n",
       "<text font-family=\"Times,serif\" font-size=\"14.00\" text-anchor=\"middle\" x=\"200\" y=\"-340.3\">output:</text>\n",
       "<polyline fill=\"none\" points=\"227.5,-332.5 227.5,-378.5 \" stroke=\"black\"/>\n",
       "<text font-family=\"Times,serif\" font-size=\"14.00\" text-anchor=\"middle\" x=\"272\" y=\"-363.3\">(None, 5408)</text>\n",
       "<polyline fill=\"none\" points=\"227.5,-355.5 316.5,-355.5 \" stroke=\"black\"/>\n",
       "<text font-family=\"Times,serif\" font-size=\"14.00\" text-anchor=\"middle\" x=\"272\" y=\"-340.3\">(None, 100)</text>\n",
       "</g>\n",
       "<!-- 139690621398768&#45;&gt;139690621075352 -->\n",
       "<g class=\"edge\" id=\"edge5\"><title>139690621398768-&gt;139690621075352</title>\n",
       "<path d=\"M190,-415.366C190,-407.152 190,-397.658 190,-388.725\" fill=\"none\" stroke=\"black\"/>\n",
       "<polygon fill=\"black\" points=\"193.5,-388.607 190,-378.607 186.5,-388.607 193.5,-388.607\" stroke=\"black\"/>\n",
       "</g>\n",
       "<!-- 139690621073840 -->\n",
       "<g class=\"node\" id=\"node7\"><title>139690621073840</title>\n",
       "<polygon fill=\"none\" points=\"55.5,-249.5 55.5,-295.5 324.5,-295.5 324.5,-249.5 55.5,-249.5\" stroke=\"black\"/>\n",
       "<text font-family=\"Times,serif\" font-size=\"14.00\" text-anchor=\"middle\" x=\"121\" y=\"-268.8\">dropout_12: Dropout</text>\n",
       "<polyline fill=\"none\" points=\"186.5,-249.5 186.5,-295.5 \" stroke=\"black\"/>\n",
       "<text font-family=\"Times,serif\" font-size=\"14.00\" text-anchor=\"middle\" x=\"214\" y=\"-280.3\">input:</text>\n",
       "<polyline fill=\"none\" points=\"186.5,-272.5 241.5,-272.5 \" stroke=\"black\"/>\n",
       "<text font-family=\"Times,serif\" font-size=\"14.00\" text-anchor=\"middle\" x=\"214\" y=\"-257.3\">output:</text>\n",
       "<polyline fill=\"none\" points=\"241.5,-249.5 241.5,-295.5 \" stroke=\"black\"/>\n",
       "<text font-family=\"Times,serif\" font-size=\"14.00\" text-anchor=\"middle\" x=\"283\" y=\"-280.3\">(None, 100)</text>\n",
       "<polyline fill=\"none\" points=\"241.5,-272.5 324.5,-272.5 \" stroke=\"black\"/>\n",
       "<text font-family=\"Times,serif\" font-size=\"14.00\" text-anchor=\"middle\" x=\"283\" y=\"-257.3\">(None, 100)</text>\n",
       "</g>\n",
       "<!-- 139690621075352&#45;&gt;139690621073840 -->\n",
       "<g class=\"edge\" id=\"edge6\"><title>139690621075352-&gt;139690621073840</title>\n",
       "<path d=\"M190,-332.366C190,-324.152 190,-314.658 190,-305.725\" fill=\"none\" stroke=\"black\"/>\n",
       "<polygon fill=\"black\" points=\"193.5,-305.607 190,-295.607 186.5,-305.607 193.5,-305.607\" stroke=\"black\"/>\n",
       "</g>\n",
       "<!-- 139690621132304 -->\n",
       "<g class=\"node\" id=\"node8\"><title>139690621132304</title>\n",
       "<polygon fill=\"none\" points=\"66.5,-166.5 66.5,-212.5 313.5,-212.5 313.5,-166.5 66.5,-166.5\" stroke=\"black\"/>\n",
       "<text font-family=\"Times,serif\" font-size=\"14.00\" text-anchor=\"middle\" x=\"121\" y=\"-185.8\">dense_35: Dense</text>\n",
       "<polyline fill=\"none\" points=\"175.5,-166.5 175.5,-212.5 \" stroke=\"black\"/>\n",
       "<text font-family=\"Times,serif\" font-size=\"14.00\" text-anchor=\"middle\" x=\"203\" y=\"-197.3\">input:</text>\n",
       "<polyline fill=\"none\" points=\"175.5,-189.5 230.5,-189.5 \" stroke=\"black\"/>\n",
       "<text font-family=\"Times,serif\" font-size=\"14.00\" text-anchor=\"middle\" x=\"203\" y=\"-174.3\">output:</text>\n",
       "<polyline fill=\"none\" points=\"230.5,-166.5 230.5,-212.5 \" stroke=\"black\"/>\n",
       "<text font-family=\"Times,serif\" font-size=\"14.00\" text-anchor=\"middle\" x=\"272\" y=\"-197.3\">(None, 100)</text>\n",
       "<polyline fill=\"none\" points=\"230.5,-189.5 313.5,-189.5 \" stroke=\"black\"/>\n",
       "<text font-family=\"Times,serif\" font-size=\"14.00\" text-anchor=\"middle\" x=\"272\" y=\"-174.3\">(None, 40)</text>\n",
       "</g>\n",
       "<!-- 139690621073840&#45;&gt;139690621132304 -->\n",
       "<g class=\"edge\" id=\"edge7\"><title>139690621073840-&gt;139690621132304</title>\n",
       "<path d=\"M190,-249.366C190,-241.152 190,-231.658 190,-222.725\" fill=\"none\" stroke=\"black\"/>\n",
       "<polygon fill=\"black\" points=\"193.5,-222.607 190,-212.607 186.5,-222.607 193.5,-222.607\" stroke=\"black\"/>\n",
       "</g>\n",
       "<!-- 139690621131968 -->\n",
       "<g class=\"node\" id=\"node9\"><title>139690621131968</title>\n",
       "<polygon fill=\"none\" points=\"70,-83.5 70,-129.5 310,-129.5 310,-83.5 70,-83.5\" stroke=\"black\"/>\n",
       "<text font-family=\"Times,serif\" font-size=\"14.00\" text-anchor=\"middle\" x=\"124.5\" y=\"-102.8\">dense_36: Dense</text>\n",
       "<polyline fill=\"none\" points=\"179,-83.5 179,-129.5 \" stroke=\"black\"/>\n",
       "<text font-family=\"Times,serif\" font-size=\"14.00\" text-anchor=\"middle\" x=\"206.5\" y=\"-114.3\">input:</text>\n",
       "<polyline fill=\"none\" points=\"179,-106.5 234,-106.5 \" stroke=\"black\"/>\n",
       "<text font-family=\"Times,serif\" font-size=\"14.00\" text-anchor=\"middle\" x=\"206.5\" y=\"-91.3\">output:</text>\n",
       "<polyline fill=\"none\" points=\"234,-83.5 234,-129.5 \" stroke=\"black\"/>\n",
       "<text font-family=\"Times,serif\" font-size=\"14.00\" text-anchor=\"middle\" x=\"272\" y=\"-114.3\">(None, 40)</text>\n",
       "<polyline fill=\"none\" points=\"234,-106.5 310,-106.5 \" stroke=\"black\"/>\n",
       "<text font-family=\"Times,serif\" font-size=\"14.00\" text-anchor=\"middle\" x=\"272\" y=\"-91.3\">(None, 10)</text>\n",
       "</g>\n",
       "<!-- 139690621132304&#45;&gt;139690621131968 -->\n",
       "<g class=\"edge\" id=\"edge8\"><title>139690621132304-&gt;139690621131968</title>\n",
       "<path d=\"M190,-166.366C190,-158.152 190,-148.658 190,-139.725\" fill=\"none\" stroke=\"black\"/>\n",
       "<polygon fill=\"black\" points=\"193.5,-139.607 190,-129.607 186.5,-139.607 193.5,-139.607\" stroke=\"black\"/>\n",
       "</g>\n",
       "<!-- 139690621255808 -->\n",
       "<g class=\"node\" id=\"node10\"><title>139690621255808</title>\n",
       "<polygon fill=\"none\" points=\"47,-0.5 47,-46.5 333,-46.5 333,-0.5 47,-0.5\" stroke=\"black\"/>\n",
       "<text font-family=\"Times,serif\" font-size=\"14.00\" text-anchor=\"middle\" x=\"124.5\" y=\"-19.8\">activation_25: Activation</text>\n",
       "<polyline fill=\"none\" points=\"202,-0.5 202,-46.5 \" stroke=\"black\"/>\n",
       "<text font-family=\"Times,serif\" font-size=\"14.00\" text-anchor=\"middle\" x=\"229.5\" y=\"-31.3\">input:</text>\n",
       "<polyline fill=\"none\" points=\"202,-23.5 257,-23.5 \" stroke=\"black\"/>\n",
       "<text font-family=\"Times,serif\" font-size=\"14.00\" text-anchor=\"middle\" x=\"229.5\" y=\"-8.3\">output:</text>\n",
       "<polyline fill=\"none\" points=\"257,-0.5 257,-46.5 \" stroke=\"black\"/>\n",
       "<text font-family=\"Times,serif\" font-size=\"14.00\" text-anchor=\"middle\" x=\"295\" y=\"-31.3\">(None, 10)</text>\n",
       "<polyline fill=\"none\" points=\"257,-23.5 333,-23.5 \" stroke=\"black\"/>\n",
       "<text font-family=\"Times,serif\" font-size=\"14.00\" text-anchor=\"middle\" x=\"295\" y=\"-8.3\">(None, 10)</text>\n",
       "</g>\n",
       "<!-- 139690621131968&#45;&gt;139690621255808 -->\n",
       "<g class=\"edge\" id=\"edge9\"><title>139690621131968-&gt;139690621255808</title>\n",
       "<path d=\"M190,-83.3664C190,-75.1516 190,-65.6579 190,-56.7252\" fill=\"none\" stroke=\"black\"/>\n",
       "<polygon fill=\"black\" points=\"193.5,-56.6068 190,-46.6068 186.5,-56.6069 193.5,-56.6068\" stroke=\"black\"/>\n",
       "</g>\n",
       "</g>\n",
       "</svg>"
      ],
      "text/plain": [
       "<IPython.core.display.SVG object>"
      ]
     },
     "execution_count": 35,
     "metadata": {},
     "output_type": "execute_result"
    }
   ],
   "source": [
    "SVG(model_to_dot(model, show_shapes=True).create(prog='dot', format='svg'))"
   ]
  },
  {
   "cell_type": "markdown",
   "metadata": {},
   "source": [
    "### Learning\n",
    "\n",
    "Now let's train the CNN model. Note that we do not need the `reshape()` function as in the MLP case.\n",
    "\n",
    "This is a relatively complex model, so training is considerably slower than with MLPs.  You probably need to run it more epochs as it is a more complex model. (Here we use 3 just for illustration.)"
   ]
  },
  {
   "cell_type": "code",
   "execution_count": 33,
   "metadata": {
    "scrolled": true
   },
   "outputs": [
    {
     "name": "stdout",
     "output_type": "stream",
     "text": [
      "Epoch 1/3\n",
      "53s - loss: 0.7014 - acc: 0.8163\n",
      "Epoch 2/3\n",
      "52s - loss: 0.3821 - acc: 0.8982\n",
      "Epoch 3/3\n",
      "53s - loss: 0.3168 - acc: 0.9093\n",
      "CPU times: user 9min 52s, sys: 19.9 s, total: 10min 12s\n",
      "Wall time: 2min 39s\n"
     ]
    }
   ],
   "source": [
    "%%time\n",
    "\n",
    "epochs = 3 # one epoch typically takes a minute or two\n",
    "\n",
    "history = model.fit(X_train, \n",
    "                    Y_train, \n",
    "                    epochs=epochs, \n",
    "                    batch_size=128,\n",
    "                    verbose=2)"
   ]
  },
  {
   "cell_type": "markdown",
   "metadata": {},
   "source": [
    "Now let's see how the training progressed by plotting the loss and accuracy over time."
   ]
  },
  {
   "cell_type": "code",
   "execution_count": 36,
   "metadata": {},
   "outputs": [
    {
     "data": {
      "text/plain": [
       "<matplotlib.text.Text at 0x7f0c41158c18>"
      ]
     },
     "execution_count": 36,
     "metadata": {},
     "output_type": "execute_result"
    },
    {
     "data": {
      "image/png": "[encoded data removed]",
      "text/plain": [
       "<matplotlib.figure.Figure at 0x7f0c4111a3c8>"
      ]
     },
     "metadata": {},
     "output_type": "display_data"
    },
    {
     "data": {
      "image/png": "[encoded data removed]",
      "text/plain": [
       "<matplotlib.figure.Figure at 0x7f0c41123ac8>"
      ]
     },
     "metadata": {},
     "output_type": "display_data"
    }
   ],
   "source": [
    "plt.figure(figsize=(5,3))\n",
    "plt.plot(history.epoch,history.history['loss'])\n",
    "plt.title('loss')\n",
    "\n",
    "plt.figure(figsize=(5,3))\n",
    "plt.plot(history.epoch,history.history['acc'])\n",
    "plt.title('accuracy')"
   ]
  },
  {
   "cell_type": "markdown",
   "metadata": {},
   "source": [
    "### Inference\n",
    "\n",
    "Now, let's see how well the model can generalize to data it hasn't seen before, i.e., the test data. You should try to do better than the MLP model in the previous exercise."
   ]
  },
  {
   "cell_type": "code",
   "execution_count": 34,
   "metadata": {},
   "outputs": [
    {
     "name": "stdout",
     "output_type": "stream",
     "text": [
      "acc: 90.71%\n"
     ]
    }
   ],
   "source": [
    "scores = model.evaluate(X_test, Y_test, verbose=2)\n",
    "print(\"%s: %.2f%%\" % (model.metrics_names[1], scores[1]*100))"
   ]
  },
  {
   "cell_type": "markdown",
   "metadata": {},
   "source": [
    "We can also inspect the results in more detail. Let's begin by defining a helper function to show the failure cases of our classifier."
   ]
  },
  {
   "cell_type": "code",
   "execution_count": 37,
   "metadata": {
    "collapsed": true
   },
   "outputs": [],
   "source": [
    "def class_to_char(cl):\n",
    "    return chr(ord('A')+int(cl))\n",
    "\n",
    "def char_to_class(ch):\n",
    "    return ord(ch)-ord('A')\n",
    "\n",
    "def show_failures(predictions, trueclass=None, predictedclass=None, maxtoshow=10):\n",
    "    if trueclass is not None:\n",
    "        trueclass = char_to_class(trueclass)\n",
    "    rounded = np.argmax(predictions, axis=1)\n",
    "    errors = rounded!=y_test\n",
    "    print('Showing max', maxtoshow, 'first failures. '\n",
    "          'The predicted class is shown first and the correct class in parenthesis.')\n",
    "    ii = 0\n",
    "    plt.figure(figsize=(maxtoshow, 1))\n",
    "    for i in range(X_test.shape[0]):\n",
    "        if ii>=maxtoshow:\n",
    "            break\n",
    "        if errors[i]:\n",
    "            if trueclass is not None and y_test[i] != trueclass:\n",
    "                continue\n",
    "            if predictedclass is not None and predictions[i] != predictedclass:\n",
    "                continue\n",
    "            plt.subplot(1, maxtoshow, ii+1)\n",
    "            plt.axis('off')\n",
    "            if K.image_dim_ordering() == 'th':\n",
    "                plt.imshow(X_test[i,0,:,:], cmap=\"gray\")\n",
    "            else:\n",
    "                plt.imshow(X_test[i,:,:,0], cmap=\"gray\")\n",
    "            plt.title(\"%s (%s)\" % (class_to_char(rounded[i]), class_to_char(y_test[i])))\n",
    "            ii = ii + 1"
   ]
  },
  {
   "cell_type": "markdown",
   "metadata": {},
   "source": [
    "Here are the first 10 test digits the CNN classified to a wrong class:"
   ]
  },
  {
   "cell_type": "code",
   "execution_count": 38,
   "metadata": {},
   "outputs": [
    {
     "name": "stdout",
     "output_type": "stream",
     "text": [
      "Showing max 10 first failures. The predicted class is shown first and the correct class in parenthesis.\n"
     ]
    },
    {
     "data": {
      "image/png": "[encoded data removed]",
      "text/plain": [
       "<matplotlib.figure.Figure at 0x7f0c4111a0f0>"
      ]
     },
     "metadata": {},
     "output_type": "display_data"
    }
   ],
   "source": [
    "predictions = model.predict(X_test)\n",
    "\n",
    "show_failures(predictions)"
   ]
  },
  {
   "cell_type": "markdown",
   "metadata": {},
   "source": [
    "We can use `show_failures()` to inspect failures in more detail. For example, here are failures in which the true class was \"A\":"
   ]
  },
  {
   "cell_type": "code",
   "execution_count": 39,
   "metadata": {},
   "outputs": [
    {
     "name": "stdout",
     "output_type": "stream",
     "text": [
      "Showing max 10 first failures. The predicted class is shown first and the correct class in parenthesis.\n"
     ]
    },
    {
     "data": {
      "image/png": "[encoded data removed]",
      "text/plain": [
       "<matplotlib.figure.Figure at 0x7f0c409ad5c0>"
      ]
     },
     "metadata": {},
     "output_type": "display_data"
    }
   ],
   "source": [
    "show_failures(predictions, trueclass=\"A\")"
   ]
  },
  {
   "cell_type": "markdown",
   "metadata": {},
   "source": [
    "Now continue to tune your model by adding layers, and check literature on convolutional neural network models."
   ]
  }
 ],
 "metadata": {
  "kernelspec": {
   "display_name": "Python 3",
   "language": "python",
   "name": "python3"
  },
  "language_info": {
   "codemirror_mode": {
    "name": "ipython",
    "version": 3
   },
   "file_extension": ".py",
   "mimetype": "text/x-python",
   "name": "python",
   "nbconvert_exporter": "python",
   "pygments_lexer": "ipython3",
   "version": "3.5.2"
  }
 },
 "nbformat": 4,
 "nbformat_minor": 1
}
